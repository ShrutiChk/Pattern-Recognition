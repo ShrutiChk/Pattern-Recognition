{
  "nbformat": 4,
  "nbformat_minor": 0,
  "metadata": {
    "colab": {
      "name": "PR_Assignment2.ipynb",
      "provenance": []
    },
    "kernelspec": {
      "name": "python3",
      "display_name": "Python 3"
    }
  },
  "cells": [
    {
      "cell_type": "code",
      "metadata": {
        "colab": {
          "base_uri": "https://localhost:8080/"
        },
        "id": "wtYAgRzJmC4u",
        "outputId": "131223ca-98dd-4e99-f1a1-508a1ee0d594"
      },
      "source": [
        "import pandas as pd \r\n",
        "import numpy as np\r\n",
        "import matplotlib.pyplot as plt\r\n",
        "%matplotlib inline\r\n",
        "import random \r\n",
        "import pandas as pd\r\n",
        "from google.colab import drive\r\n",
        "drive.mount('/drive')"
      ],
      "execution_count": null,
      "outputs": [
        {
          "output_type": "stream",
          "text": [
            "Mounted at /drive\n"
          ],
          "name": "stdout"
        }
      ]
    },
    {
      "cell_type": "code",
      "metadata": {
        "colab": {
          "base_uri": "https://localhost:8080/",
          "height": 225
        },
        "id": "gdNHTry-mJu5",
        "outputId": "a72402f5-1c64-4f20-8924-00f73bd5c3c2"
      },
      "source": [
        "train = pd.read_csv('/drive/My Drive/Colab Notebooks/PR_lab_Assignments/Assignment2/train-perceptron.txt',sep=' ', header = None)\r\n",
        "train"
      ],
      "execution_count": null,
      "outputs": [
        {
          "output_type": "execute_result",
          "data": {
            "text/html": [
              "<div>\n",
              "<style scoped>\n",
              "    .dataframe tbody tr th:only-of-type {\n",
              "        vertical-align: middle;\n",
              "    }\n",
              "\n",
              "    .dataframe tbody tr th {\n",
              "        vertical-align: top;\n",
              "    }\n",
              "\n",
              "    .dataframe thead th {\n",
              "        text-align: right;\n",
              "    }\n",
              "</style>\n",
              "<table border=\"1\" class=\"dataframe\">\n",
              "  <thead>\n",
              "    <tr style=\"text-align: right;\">\n",
              "      <th></th>\n",
              "      <th>0</th>\n",
              "      <th>1</th>\n",
              "      <th>2</th>\n",
              "    </tr>\n",
              "  </thead>\n",
              "  <tbody>\n",
              "    <tr>\n",
              "      <th>0</th>\n",
              "      <td>1</td>\n",
              "      <td>1.0</td>\n",
              "      <td>1</td>\n",
              "    </tr>\n",
              "    <tr>\n",
              "      <th>1</th>\n",
              "      <td>1</td>\n",
              "      <td>-1.0</td>\n",
              "      <td>1</td>\n",
              "    </tr>\n",
              "    <tr>\n",
              "      <th>2</th>\n",
              "      <td>2</td>\n",
              "      <td>2.5</td>\n",
              "      <td>2</td>\n",
              "    </tr>\n",
              "    <tr>\n",
              "      <th>3</th>\n",
              "      <td>0</td>\n",
              "      <td>2.0</td>\n",
              "      <td>2</td>\n",
              "    </tr>\n",
              "    <tr>\n",
              "      <th>4</th>\n",
              "      <td>2</td>\n",
              "      <td>3.0</td>\n",
              "      <td>2</td>\n",
              "    </tr>\n",
              "    <tr>\n",
              "      <th>5</th>\n",
              "      <td>4</td>\n",
              "      <td>5.0</td>\n",
              "      <td>1</td>\n",
              "    </tr>\n",
              "  </tbody>\n",
              "</table>\n",
              "</div>"
            ],
            "text/plain": [
              "   0    1  2\n",
              "0  1  1.0  1\n",
              "1  1 -1.0  1\n",
              "2  2  2.5  2\n",
              "3  0  2.0  2\n",
              "4  2  3.0  2\n",
              "5  4  5.0  1"
            ]
          },
          "metadata": {
            "tags": []
          },
          "execution_count": 2
        }
      ]
    },
    {
      "cell_type": "code",
      "metadata": {
        "id": "mYIu58homj0S"
      },
      "source": [
        "class1 = []\r\n",
        "class2 = []"
      ],
      "execution_count": null,
      "outputs": []
    },
    {
      "cell_type": "markdown",
      "metadata": {
        "id": "8U8ZQqK9nxly"
      },
      "source": [
        "Plotting training samples"
      ]
    },
    {
      "cell_type": "code",
      "metadata": {
        "id": "Z9f1Qe81myGA"
      },
      "source": [
        "for i in range(len(train)):\r\n",
        "  if(train[2][i] == 1):\r\n",
        "    class1.append([train[0][i],train[1][i]])\r\n",
        "  else:\r\n",
        "    class2.append([train[0][i],train[1][i]])"
      ],
      "execution_count": null,
      "outputs": []
    },
    {
      "cell_type": "code",
      "metadata": {
        "colab": {
          "base_uri": "https://localhost:8080/"
        },
        "id": "qvuNqeAFm2vC",
        "outputId": "b637d67c-96f1-4e66-d950-d70f7c74b543"
      },
      "source": [
        "print(class1)\r\n",
        "print(class2)"
      ],
      "execution_count": null,
      "outputs": [
        {
          "output_type": "stream",
          "text": [
            "[[1, 1.0], [1, -1.0], [4, 5.0]]\n",
            "[[2, 2.5], [0, 2.0], [2, 3.0]]\n"
          ],
          "name": "stdout"
        }
      ]
    },
    {
      "cell_type": "code",
      "metadata": {
        "colab": {
          "base_uri": "https://localhost:8080/"
        },
        "id": "1ipBqQJ3m8U-",
        "outputId": "3a8e59d6-c499-44f5-e27a-8ed234c484b1"
      },
      "source": [
        "class1_x = []\r\n",
        "class1_y = []\r\n",
        "for i in range(len(class1)):\r\n",
        "  class1_x.append(class1[i][0])\r\n",
        "  class1_y.append(class1[i][1])\r\n",
        "class1_x"
      ],
      "execution_count": null,
      "outputs": [
        {
          "output_type": "execute_result",
          "data": {
            "text/plain": [
              "[1, 1, 4]"
            ]
          },
          "metadata": {
            "tags": []
          },
          "execution_count": 6
        }
      ]
    },
    {
      "cell_type": "code",
      "metadata": {
        "colab": {
          "base_uri": "https://localhost:8080/"
        },
        "id": "2TclN9p7nOqq",
        "outputId": "b9556772-adb2-4586-f182-0cc0de445285"
      },
      "source": [
        "class2_x = []\r\n",
        "class2_y = []\r\n",
        "for i in range(len(class2)):\r\n",
        "  class2_x.append(class2[i][0])\r\n",
        "  class2_y.append(class2[i][1])\r\n",
        "class2_x"
      ],
      "execution_count": null,
      "outputs": [
        {
          "output_type": "execute_result",
          "data": {
            "text/plain": [
              "[2, 0, 2]"
            ]
          },
          "metadata": {
            "tags": []
          },
          "execution_count": 7
        }
      ]
    },
    {
      "cell_type": "code",
      "metadata": {
        "colab": {
          "base_uri": "https://localhost:8080/",
          "height": 334
        },
        "id": "SFf46uUznSvF",
        "outputId": "07f6a42b-21ec-4b07-fb80-09f0daf53a76"
      },
      "source": [
        "plt.figure(figsize=(10,5))\r\n",
        "plt.plot(class1_x,class1_y,'or' , label = 'Train Class 1')\r\n",
        "plt.plot(class2_x,class2_y,'*k' , label = 'Train Class 2')\r\n",
        "plt.xlabel('x1')\r\n",
        "plt.ylabel('x2')\r\n",
        "plt.legend()\r\n",
        "plt.show()"
      ],
      "execution_count": null,
      "outputs": [
        {
          "output_type": "display_data",
          "data": {
            "image/png": "[encoded data removed]",
            "text/plain": [
              "<Figure size 720x360 with 1 Axes>"
            ]
          },
          "metadata": {
            "tags": [],
            "needs_background": "light"
          }
        }
      ]
    },
    {
      "cell_type": "markdown",
      "metadata": {
        "id": "90yw--fIqGtc"
      },
      "source": [
        "Phi function"
      ]
    },
    {
      "cell_type": "code",
      "metadata": {
        "colab": {
          "base_uri": "https://localhost:8080/"
        },
        "id": "bQ_Vr5kzndU9",
        "outputId": "9a0253b1-2425-4271-888b-4af3e9bd6a7c"
      },
      "source": [
        "y_class1 = []\r\n",
        "for i in range(len(class1)):\r\n",
        "  y_class1.append([(class1[i][0]*class1[i][0]) , (class1[i][1]*class1[i][1]) , (class1[i][0]*class1[i][1]) , class1[i][0] , class1[i][1] , 1])\r\n",
        "\r\n",
        "print(y_class1)"
      ],
      "execution_count": null,
      "outputs": [
        {
          "output_type": "stream",
          "text": [
            "[[1, 1.0, 1.0, 1, 1.0, 1], [1, 1.0, -1.0, 1, -1.0, 1], [16, 25.0, 20.0, 4, 5.0, 1]]\n"
          ],
          "name": "stdout"
        }
      ]
    },
    {
      "cell_type": "code",
      "metadata": {
        "colab": {
          "base_uri": "https://localhost:8080/"
        },
        "id": "WzvdWt07o_gm",
        "outputId": "e7bf2294-1293-4ff1-9fa2-5033385d3989"
      },
      "source": [
        "y_class2 = []\r\n",
        "for i in range(len(class2)):\r\n",
        "  y_class2.append([-(class2[i][0]*class2[i][0]) , -(class2[i][1]*class2[i][1]) , -(class2[i][0]*class2[i][1]) , -class2[i][0] , -class2[i][1] , -1])\r\n",
        "\r\n",
        "print(y_class2)"
      ],
      "execution_count": null,
      "outputs": [
        {
          "output_type": "stream",
          "text": [
            "[[-4, -6.25, -5.0, -2, -2.5, -1], [0, -4.0, -0.0, 0, -2.0, -1], [-4, -9.0, -6.0, -2, -3.0, -1]]\n"
          ],
          "name": "stdout"
        }
      ]
    },
    {
      "cell_type": "code",
      "metadata": {
        "colab": {
          "base_uri": "https://localhost:8080/"
        },
        "id": "T4ZY9lcLrxz_",
        "outputId": "5380b954-5545-4a65-ffe5-e32b4980df8f"
      },
      "source": [
        "y = []\r\n",
        "y.extend(y_class1)\r\n",
        "y.extend(y_class2)\r\n",
        "y"
      ],
      "execution_count": null,
      "outputs": [
        {
          "output_type": "execute_result",
          "data": {
            "text/plain": [
              "[[1, 1.0, 1.0, 1, 1.0, 1],\n",
              " [1, 1.0, -1.0, 1, -1.0, 1],\n",
              " [16, 25.0, 20.0, 4, 5.0, 1],\n",
              " [-4, -6.25, -5.0, -2, -2.5, -1],\n",
              " [0, -4.0, -0.0, 0, -2.0, -1],\n",
              " [-4, -9.0, -6.0, -2, -3.0, -1]]"
            ]
          },
          "metadata": {
            "tags": []
          },
          "execution_count": 11
        }
      ]
    },
    {
      "cell_type": "markdown",
      "metadata": {
        "id": "7Yp9ClGZ2fnv"
      },
      "source": [
        "### Many At a Time"
      ]
    },
    {
      "cell_type": "code",
      "metadata": {
        "id": "9CJMTzEnxDx-"
      },
      "source": [
        "def many_at_a_time(learning_rate,w):\r\n",
        "  all_correct = False\r\n",
        "  iter = 0\r\n",
        "  y_sum = np.zeros(6)\r\n",
        "  w_new = np.zeros(6)\r\n",
        "  while (not all_correct and iter <= 200):\r\n",
        "      mc = 0\r\n",
        "      y_sum = np.zeros(6)\r\n",
        "      for i in range(len(y)):\r\n",
        "        #print('wTy: ',np.dot((np.transpose(w)),y[i]))\r\n",
        "        if (np.dot((np.transpose(w)),y[i])) <= 0:\r\n",
        "              y_sum = np.add(y_sum , y[i])\r\n",
        "              mc +=1\r\n",
        "      if mc == 0:\r\n",
        "        all_correct = True\r\n",
        "      else:        \r\n",
        "        all_correct = False\r\n",
        "        w = w + np.dot(learning_rate , y_sum)\r\n",
        "      iter += 1\r\n",
        "      \r\n",
        "\r\n",
        "  return w,iter\r\n"
      ],
      "execution_count": null,
      "outputs": []
    },
    {
      "cell_type": "markdown",
      "metadata": {
        "id": "6fWUFkOW2jF8"
      },
      "source": [
        "### One at a time"
      ]
    },
    {
      "cell_type": "code",
      "metadata": {
        "id": "jbMJRBdgU2zs"
      },
      "source": [
        "def one_at_a_time(learning_rate,w):\r\n",
        "  all_correct = False\r\n",
        "  iter = 0\r\n",
        "  y_sum = np.zeros(6)\r\n",
        "  w_new = np.zeros(6)\r\n",
        "  while (not all_correct and iter <= 200):\r\n",
        "      mc = 0\r\n",
        "      for i in range(len(y)):\r\n",
        "        #print('wTy: ',np.dot((np.transpose(w)),y[i]))\r\n",
        "        if (np.dot((np.transpose(w)),y[i])) <= 0:\r\n",
        "              w = w + np.dot(learning_rate,y[i])\r\n",
        "              mc +=1\r\n",
        "      if mc == 0:\r\n",
        "        all_correct = True\r\n",
        "      else:        \r\n",
        "        all_correct = False\r\n",
        "      iter += 1\r\n",
        "      \r\n",
        "\r\n",
        "  return w,iter\r\n"
      ],
      "execution_count": null,
      "outputs": []
    },
    {
      "cell_type": "code",
      "metadata": {
        "id": "r0A18Qu89SQ_"
      },
      "source": [
        "one_time_iter = []\r\n",
        "one_time_weight = []\r\n",
        "many_time_iter = []\r\n",
        "many_time_weight = []"
      ],
      "execution_count": null,
      "outputs": []
    },
    {
      "cell_type": "markdown",
      "metadata": {
        "id": "a9UzF6R_2qY4"
      },
      "source": [
        "### Initial weight all ones"
      ]
    },
    {
      "cell_type": "code",
      "metadata": {
        "colab": {
          "base_uri": "https://localhost:8080/"
        },
        "id": "WgC9qHnG0n0z",
        "outputId": "df8604c2-9d38-4892-849d-84207b44f351"
      },
      "source": [
        "one_time_iter = []\r\n",
        "one_time_weight = []\r\n",
        "many_time_iter = []\r\n",
        "many_time_weight = []\r\n",
        "lr = np.arange(0.1,1.1,0.1)\r\n",
        "w1 = np.ones(6)\r\n",
        "for i in lr:\r\n",
        "  \r\n",
        "  w_m,iter_m = many_at_a_time(i,w1)\r\n",
        "  many_time_iter.append(iter_m)\r\n",
        "  many_time_weight.append(w_m)\r\n",
        "  \r\n",
        "  w_o,iter_o = one_at_a_time(i,w1)\r\n",
        "  one_time_iter.append(iter_o)\r\n",
        "  one_time_weight.append(w_o)\r\n",
        "\r\n",
        "print('MANY TIME Iteration:', many_time_iter)\r\n",
        "print('MANY TIME WEIGHT: ', many_time_weight)\r\n",
        "print('ONE TIME Iteration:', one_time_iter)\r\n",
        "print('ONE TIME WEIGHT: ', one_time_weight)\r\n",
        "\r\n",
        "\r\n",
        "#  print('Learning rate: ', i)\r\n",
        "#  print('Weights: ',w)\r\n",
        "# print('No of iterations: ', iter)"
      ],
      "execution_count": null,
      "outputs": [
        {
          "output_type": "stream",
          "text": [
            "MANY TIME Iteration: [102, 104, 91, 116, 105, 114, 91, 91, 105, 93]\n",
            "MANY TIME WEIGHT:  [array([ 6.5  , -4.425,  2.8  , -0.5  , -5.45 ,  1.2  ]), array([ 13.  ,  -8.85,   5.6 ,  -1.  , -10.9 ,   2.4 ]), array([ 17.8  , -11.825,   7.9  ,  -1.4  , -15.05 ,   2.8  ]), array([ 26.6, -18. ,  11.4,  -2.2, -22.6,   5.4]), array([ 32.5  , -22.125,  14.   ,  -2.5  , -27.25 ,   6.   ]), array([ 40. , -26.9,  17.2,  -3.2, -33.8,   8.2]), array([ 41.6  , -27.525,  18.5  ,  -3.2  , -35.05 ,   6.6  ]), array([ 47.4, -31.6,  21. ,  -3.8, -40.2,   7.4]), array([ 57.7 , -38.15,  25.3 ,  -5.3 , -49.4 ,  10.  ]), array([ 60.  , -38.75,  25.  ,  -4.  , -51.5 ,  10.  ])]\n",
            "ONE TIME Iteration: [6, 92, 104, 106, 93, 93, 108, 115, 94, 94]\n",
            "ONE TIME WEIGHT:  [array([ 1.   , -1.025,  0.7  ,  0.2  , -0.75 ,  0.1  ]), array([10. , -6.7,  4.4, -1.2, -9.4,  3.2]), array([ 16.3, -10.7,   6.7,  -2.3, -15.2,   5.5]), array([ 22.2, -14.3,   9.8,  -2.6, -20.4,   7.4]), array([ 25.  , -16.75,  11.  ,  -3.  , -23.5 ,   8.  ]), array([ 29.2, -18.5,  12.4,  -4.4, -27.8,   9.4]), array([ 38.8  , -25.075,  17.1  ,  -4.6  , -35.75 ,  12.9  ]), array([ 45.8, -31.2,  19.4,  -5.4, -42.6,  16.2]), array([ 45.1 , -30.05,  19.9 ,  -5.3 , -42.2 ,  14.5 ]), array([ 50. , -33.5,  22. ,  -6. , -47. ,  16. ])]\n"
          ],
          "name": "stdout"
        }
      ]
    },
    {
      "cell_type": "code",
      "metadata": {
        "colab": {
          "base_uri": "https://localhost:8080/"
        },
        "id": "GQxHVdtiD-C9",
        "outputId": "8269a84e-ee64-4809-fc7f-8f84381de986"
      },
      "source": [
        "data = {'Alpha(Learning Rate)':lr,\r\n",
        "        'One at a time':one_time_iter,\r\n",
        "        'Many at a time':many_time_iter}\r\n",
        " \r\n",
        "df = pd.DataFrame(data)\r\n",
        "print('\\t\\t---Initial Weight all One---')\r\n",
        "print(df)"
      ],
      "execution_count": null,
      "outputs": [
        {
          "output_type": "stream",
          "text": [
            "\t\t---Initial Weight all One---\n",
            "   Alpha(Learning Rate)  One at a time  Many at a time\n",
            "0                   0.1              6             102\n",
            "1                   0.2             92             104\n",
            "2                   0.3            104              91\n",
            "3                   0.4            106             116\n",
            "4                   0.5             93             105\n",
            "5                   0.6             93             114\n",
            "6                   0.7            108              91\n",
            "7                   0.8            115              91\n",
            "8                   0.9             94             105\n",
            "9                   1.0             94              93\n"
          ],
          "name": "stdout"
        }
      ]
    },
    {
      "cell_type": "code",
      "metadata": {
        "colab": {
          "base_uri": "https://localhost:8080/",
          "height": 404
        },
        "id": "iiiyWH6kF3RY",
        "outputId": "080242bd-873a-4c8b-8515-c4aa56d15f15"
      },
      "source": [
        "labels = ['0.1','0.2','0.3','0.4','0.5','0.6','0.7','0.8','0.9','1.0']\r\n",
        "x = np.arange(len(labels)) \r\n",
        "width = 0.35  \r\n",
        "fig, ax = plt.subplots()\r\n",
        "fig.set_size_inches(10,6)\r\n",
        "ax.bar(x - width/2, one_time_iter, width, label='One at a time')\r\n",
        "ax.bar(x + width/2, many_time_iter, width, label='Many at a time')\r\n",
        "\r\n",
        "ax.set_xlabel('Learning rate')\r\n",
        "ax.set_ylabel('No of iterations')\r\n",
        "ax.set_title('Perceptron comparison')\r\n",
        "ax.set_xticks(x)\r\n",
        "ax.set_xticklabels(labels)\r\n",
        "ax.legend()\r\n",
        "\r\n",
        "plt.show()"
      ],
      "execution_count": null,
      "outputs": [
        {
          "output_type": "display_data",
          "data": {
            "image/png": "[encoded data removed]",
            "text/plain": [
              "<Figure size 720x432 with 1 Axes>"
            ]
          },
          "metadata": {
            "tags": [],
            "needs_background": "light"
          }
        }
      ]
    },
    {
      "cell_type": "markdown",
      "metadata": {
        "id": "Y-I3XBiW2x8W"
      },
      "source": [
        "### Initial weight all zeros"
      ]
    },
    {
      "cell_type": "code",
      "metadata": {
        "colab": {
          "base_uri": "https://localhost:8080/"
        },
        "id": "RSqyg8bD1Jrd",
        "outputId": "2b3dcf72-d8a6-4c94-f5ac-9fbaeffc4b62"
      },
      "source": [
        "one_time_iter = []\r\n",
        "one_time_weight = []\r\n",
        "many_time_iter = []\r\n",
        "many_time_weight = []\r\n",
        "lr = np.arange(0.1,1.1,0.1)\r\n",
        "w2 = np.zeros(6)\r\n",
        "for i in lr:\r\n",
        "  w_m,iter_m = many_at_a_time(i,w2)\r\n",
        "  many_time_iter.append(iter_m)\r\n",
        "  many_time_weight.append(w_m)\r\n",
        "  \r\n",
        "  w_o,iter_o = one_at_a_time(i,w2)\r\n",
        "  one_time_iter.append(iter_o)\r\n",
        "  one_time_weight.append(w_o)\r\n",
        "\r\n",
        "print('MANY TIME Iteration:', many_time_iter)\r\n",
        "print('MANY TIME WEIGHT: ', many_time_weight)\r\n",
        "print('ONE TIME Iteration:', one_time_iter)\r\n",
        "print('ONE TIME WEIGHT: ', one_time_weight)"
      ],
      "execution_count": null,
      "outputs": [
        {
          "output_type": "stream",
          "text": [
            "MANY TIME Iteration: [105, 105, 92, 105, 92, 105, 105, 105, 105, 92]\n",
            "MANY TIME WEIGHT:  [array([ 6.5  , -4.425,  2.8  , -0.5  , -5.45 ,  1.2  ]), array([ 13.  ,  -8.85,   5.6 ,  -1.  , -10.9 ,   2.4 ]), array([ 18.   , -11.625,   7.5  ,  -1.2  , -15.45 ,   3.   ]), array([ 26. , -17.7,  11.2,  -2. , -21.8,   4.8]), array([ 30.   , -19.375,  12.5  ,  -2.   , -25.75 ,   5.   ]), array([ 39.  , -26.55,  16.8 ,  -3.  , -32.7 ,   7.2 ]), array([ 45.5  , -30.975,  19.6  ,  -3.5  , -38.15 ,   8.4  ]), array([ 52. , -35.4,  22.4,  -4. , -43.6,   9.6]), array([ 58.5  , -39.825,  25.2  ,  -4.5  , -49.05 ,  10.8  ]), array([ 60.  , -38.75,  25.  ,  -4.  , -51.5 ,  10.  ])]\n",
            "ONE TIME Iteration: [94, 94, 94, 94, 94, 94, 94, 94, 94, 94]\n",
            "ONE TIME WEIGHT:  [array([ 5.  , -3.35,  2.2 , -0.6 , -4.7 ,  1.6 ]), array([10. , -6.7,  4.4, -1.2, -9.4,  3.2]), array([ 15.  , -10.05,   6.6 ,  -1.8 , -14.1 ,   4.8 ]), array([ 20. , -13.4,   8.8,  -2.4, -18.8,   6.4]), array([ 25.  , -16.75,  11.  ,  -3.  , -23.5 ,   8.  ]), array([ 30. , -20.1,  13.2,  -3.6, -28.2,   9.6]), array([ 35.  , -23.45,  15.4 ,  -4.2 , -32.9 ,  11.2 ]), array([ 40. , -26.8,  17.6,  -4.8, -37.6,  12.8]), array([ 45.  , -30.15,  19.8 ,  -5.4 , -42.3 ,  14.4 ]), array([ 50. , -33.5,  22. ,  -6. , -47. ,  16. ])]\n"
          ],
          "name": "stdout"
        }
      ]
    },
    {
      "cell_type": "code",
      "metadata": {
        "colab": {
          "base_uri": "https://localhost:8080/"
        },
        "id": "bFbR2Neq1Siw",
        "outputId": "25672bba-97f6-4b63-9c4d-bd483e4298ca"
      },
      "source": [
        "data2 = {'Alpha(Learning Rate)':lr,\r\n",
        "        'One at a time':one_time_iter,\r\n",
        "        'Many at a time':many_time_iter}\r\n",
        " \r\n",
        "df2 = pd.DataFrame(data2)\r\n",
        "print('\\t\\t---Initial Weight all Zeros---')\r\n",
        "print(df2)"
      ],
      "execution_count": null,
      "outputs": [
        {
          "output_type": "stream",
          "text": [
            "\t\t---Initial Weight all Zeros---\n",
            "   Alpha(Learning Rate)  One at a time  Many at a time\n",
            "0                   0.1             94             105\n",
            "1                   0.2             94             105\n",
            "2                   0.3             94              92\n",
            "3                   0.4             94             105\n",
            "4                   0.5             94              92\n",
            "5                   0.6             94             105\n",
            "6                   0.7             94             105\n",
            "7                   0.8             94             105\n",
            "8                   0.9             94             105\n",
            "9                   1.0             94              92\n"
          ],
          "name": "stdout"
        }
      ]
    },
    {
      "cell_type": "code",
      "metadata": {
        "colab": {
          "base_uri": "https://localhost:8080/",
          "height": 404
        },
        "id": "HZRMWDVpLr7p",
        "outputId": "28c8453d-d277-4b85-803e-8e8e44e17c42"
      },
      "source": [
        "labels = ['0.1','0.2','0.3','0.4','0.5','0.6','0.7','0.8','0.9','1.0']\r\n",
        "x = np.arange(len(labels))  # the label locations\r\n",
        "width = 0.35  # the width of the bars\r\n",
        "fig, ax = plt.subplots()\r\n",
        "fig.set_size_inches(10,6)\r\n",
        "ax.bar(x - width/2, one_time_iter, width, label='One at a time')\r\n",
        "ax.bar(x + width/2, many_time_iter, width, label='Many at a time')\r\n",
        "\r\n",
        "ax.set_xlabel('Learning rate')\r\n",
        "ax.set_ylabel('No of iterations')\r\n",
        "ax.set_title('Perceptron comparison')\r\n",
        "ax.set_xticks(x)\r\n",
        "ax.set_xticklabels(labels)\r\n",
        "ax.legend()\r\n",
        "\r\n",
        "plt.show()"
      ],
      "execution_count": null,
      "outputs": [
        {
          "output_type": "display_data",
          "data": {
            "image/png": "[encoded data removed]",
            "text/plain": [
              "<Figure size 720x432 with 1 Axes>"
            ]
          },
          "metadata": {
            "tags": [],
            "needs_background": "light"
          }
        }
      ]
    },
    {
      "cell_type": "markdown",
      "metadata": {
        "id": "oGg6W2at22ut"
      },
      "source": [
        "### Initial weight all randomly"
      ]
    },
    {
      "cell_type": "code",
      "metadata": {
        "colab": {
          "base_uri": "https://localhost:8080/"
        },
        "id": "jeZdN_du9BPc",
        "outputId": "c5f2b964-d09b-45e0-847f-ff8dc239b57a"
      },
      "source": [
        "one_time_iter = []\r\n",
        "one_time_weight = []\r\n",
        "many_time_iter = []\r\n",
        "many_time_weight = []\r\n",
        "w3 = []\r\n",
        "random.seed(10)\r\n",
        "for i in range(0,6):\r\n",
        "  n = random.randint(1,10)\r\n",
        "  w3.append(n)\r\n",
        "lr = np.arange(0.1,1.1,0.1)\r\n",
        "for i in lr:\r\n",
        "  w_m,iter_m = many_at_a_time(i,w3)\r\n",
        "  many_time_iter.append(iter_m)\r\n",
        "  many_time_weight.append(w_m)\r\n",
        "  \r\n",
        "  w_o,iter_o = one_at_a_time(i,w3)\r\n",
        "  one_time_iter.append(iter_o)\r\n",
        "  one_time_weight.append(w_o)\r\n",
        "\r\n",
        "print('MANY TIME Iteration:', many_time_iter)\r\n",
        "print('MANY TIME WEIGHT: ', many_time_weight)\r\n",
        "print('ONE TIME Iteration:', one_time_iter)\r\n",
        "print('ONE TIME WEIGHT: ', one_time_weight)"
      ],
      "execution_count": null,
      "outputs": [
        {
          "output_type": "stream",
          "text": [
            "MANY TIME Iteration: [52, 37, 107, 106, 138, 13, 91, 128, 112, 110]\n",
            "MANY TIME WEIGHT:  [array([ 9.5  , -7.375,  1.8  ,  2.3  , -1.25 , -3.1  ]), array([12.2 , -8.85,  3.  ,  1.4 , -3.9 , -3.8 ]), array([ 24.1  , -15.575,   7.6  ,  -0.7  , -14.45 ,  -0.8  ]), array([ 30. , -19.3,   9.8,  -0.8, -19.8,   0.6]), array([ 41.   , -26.125,  14.5  ,  -3.   , -29.75 ,   3.5  ]), array([ 16.6, -12.2,   5.2,   3.8,  -8. ,  -3.8]), array([ 47.8  , -31.375,  17.5  ,  -1.8  , -34.45 ,   2.4  ]), array([ 61.2, -40. ,  22.2,  -3.2, -46.4,   8.2]), array([ 64.  , -41.75,  23.2 ,  -2.8 , -48.5 ,   8.2 ]), array([ 70. , -46.5,  27. ,  -4. , -53. ,   9. ])]\n",
            "ONE TIME Iteration: [44, 97, 15, 105, 86, 88, 7, 108, 94, 6]\n",
            "ONE TIME WEIGHT:  [array([ 9.5  , -7.375,  1.8  ,  2.3  , -1.25 , -3.1  ]), array([ 16.6 , -11.35,   4.6 ,   0.2 ,  -8.7 ,  -1.2 ]), array([10.  , -7.85,  2.2 ,  2.6 , -1.7 , -3.2 ]), array([ 27.6, -18.5,   9. ,  -0.8, -19. ,   3. ]), array([ 29.5, -19.5,  10.5,  -1.5, -21. ,   2.5]), array([ 34.6, -22.4,  12.4,  -2.2, -26. ,   4. ]), array([ 12.1  , -11.075,   4.2  ,   4.5  ,  -2.95 ,  -3.2  ]), array([ 51.6, -34.8,  19. ,  -3.2, -41.6,  10.6]), array([ 51.4, -34.1,  19.6,  -4.6, -41.3,  10. ]), array([ 14.  , -11.25,   4.  ,   4.  ,  -5.5 ,  -3.  ])]\n"
          ],
          "name": "stdout"
        }
      ]
    },
    {
      "cell_type": "code",
      "metadata": {
        "colab": {
          "base_uri": "https://localhost:8080/"
        },
        "id": "Qa1LdxNMFa2z",
        "outputId": "6a2a50ea-1bf3-432c-ba33-35639b8c2475"
      },
      "source": [
        "data3 = {'Alpha(Learning Rate)':lr,\r\n",
        "        'One at a time':one_time_iter,\r\n",
        "        'Many at a time':many_time_iter}\r\n",
        " \r\n",
        "df3 = pd.DataFrame(data3)\r\n",
        "print('\\t\\t---Initial Weight all random values---')\r\n",
        "print(df3)"
      ],
      "execution_count": null,
      "outputs": [
        {
          "output_type": "stream",
          "text": [
            "\t\t---Initial Weight all random values---\n",
            "   Alpha(Learning Rate)  One at a time  Many at a time\n",
            "0                   0.1             44              52\n",
            "1                   0.2             97              37\n",
            "2                   0.3             15             107\n",
            "3                   0.4            105             106\n",
            "4                   0.5             86             138\n",
            "5                   0.6             88              13\n",
            "6                   0.7              7              91\n",
            "7                   0.8            108             128\n",
            "8                   0.9             94             112\n",
            "9                   1.0              6             110\n"
          ],
          "name": "stdout"
        }
      ]
    },
    {
      "cell_type": "code",
      "metadata": {
        "colab": {
          "base_uri": "https://localhost:8080/",
          "height": 404
        },
        "id": "-cBBIVSoFs-j",
        "outputId": "b3ab5113-160c-4828-df49-b555b8e88620"
      },
      "source": [
        "labels = ['0.1','0.2','0.3','0.4','0.5','0.6','0.7','0.8','0.9','1.0']\r\n",
        "x = np.arange(len(labels))  # the label locations\r\n",
        "width = 0.35  # the width of the bars\r\n",
        "fig, ax = plt.subplots()\r\n",
        "fig.set_size_inches(10,6)\r\n",
        "ax.bar(x - width/2, one_time_iter, width, label='One at a time')\r\n",
        "ax.bar(x + width/2, many_time_iter, width, label='Many at a time')\r\n",
        "\r\n",
        "ax.set_xlabel('Learning rate')\r\n",
        "ax.set_ylabel('No of iterations')\r\n",
        "ax.set_title('Perceptron comparison')\r\n",
        "ax.set_xticks(x)\r\n",
        "ax.set_xticklabels(labels)\r\n",
        "ax.legend()\r\n",
        "\r\n",
        "plt.show()"
      ],
      "execution_count": null,
      "outputs": [
        {
          "output_type": "display_data",
          "data": {
            "image/png": "[encoded data removed]",
            "text/plain": [
              "<Figure size 720x432 with 1 Axes>"
            ]
          },
          "metadata": {
            "tags": [],
            "needs_background": "light"
          }
        }
      ]
    },
    {
      "cell_type": "code",
      "metadata": {
        "id": "XZ1rYkUfL1yw"
      },
      "source": [
        ""
      ],
      "execution_count": null,
      "outputs": []
    }
  ]
}