{
  "nbformat": 4,
  "nbformat_minor": 0,
  "metadata": {
    "colab": {
      "name": "PR_Assignment4.ipynb",
      "provenance": [],
      "collapsed_sections": []
    },
    "kernelspec": {
      "name": "python3",
      "display_name": "Python 3"
    }
  },
  "cells": [
    {
      "cell_type": "code",
      "metadata": {
        "id": "GLBOBUFxhvcZ",
        "colab": {
          "base_uri": "https://localhost:8080/"
        },
        "outputId": "bc8bc5cc-7a6a-410a-ca04-ab8ef2f7a97e"
      },
      "source": [
        "import pandas as pd \n",
        "import numpy as np\n",
        "import matplotlib.pyplot as plt\n",
        "%matplotlib inline\n",
        "import random \n",
        "import pandas as pd\n",
        "from google.colab import drive\n",
        "drive.mount('/drive')"
      ],
      "execution_count": null,
      "outputs": [
        {
          "output_type": "stream",
          "text": [
            "Mounted at /drive\n"
          ],
          "name": "stdout"
        }
      ]
    },
    {
      "cell_type": "code",
      "metadata": {
        "id": "R5jxLy2NhxT1",
        "colab": {
          "base_uri": "https://localhost:8080/",
          "height": 462
        },
        "outputId": "eb62733b-8cab-449e-85a5-5d09bb1d33b4"
      },
      "source": [
        "train = pd.read_csv('/drive/My Drive/Colab Notebooks/PR_lab_Assignments/Assignment4/train_knn.txt',sep=',', header = None)\n",
        "train"
      ],
      "execution_count": null,
      "outputs": [
        {
          "output_type": "execute_result",
          "data": {
            "text/html": [
              "<div>\n",
              "<style scoped>\n",
              "    .dataframe tbody tr th:only-of-type {\n",
              "        vertical-align: middle;\n",
              "    }\n",
              "\n",
              "    .dataframe tbody tr th {\n",
              "        vertical-align: top;\n",
              "    }\n",
              "\n",
              "    .dataframe thead th {\n",
              "        text-align: right;\n",
              "    }\n",
              "</style>\n",
              "<table border=\"1\" class=\"dataframe\">\n",
              "  <thead>\n",
              "    <tr style=\"text-align: right;\">\n",
              "      <th></th>\n",
              "      <th>0</th>\n",
              "      <th>1</th>\n",
              "      <th>2</th>\n",
              "    </tr>\n",
              "  </thead>\n",
              "  <tbody>\n",
              "    <tr>\n",
              "      <th>0</th>\n",
              "      <td>7</td>\n",
              "      <td>7</td>\n",
              "      <td>1</td>\n",
              "    </tr>\n",
              "    <tr>\n",
              "      <th>1</th>\n",
              "      <td>7</td>\n",
              "      <td>4</td>\n",
              "      <td>1</td>\n",
              "    </tr>\n",
              "    <tr>\n",
              "      <th>2</th>\n",
              "      <td>6</td>\n",
              "      <td>4</td>\n",
              "      <td>1</td>\n",
              "    </tr>\n",
              "    <tr>\n",
              "      <th>3</th>\n",
              "      <td>7</td>\n",
              "      <td>5</td>\n",
              "      <td>1</td>\n",
              "    </tr>\n",
              "    <tr>\n",
              "      <th>4</th>\n",
              "      <td>7</td>\n",
              "      <td>6</td>\n",
              "      <td>1</td>\n",
              "    </tr>\n",
              "    <tr>\n",
              "      <th>5</th>\n",
              "      <td>6</td>\n",
              "      <td>7</td>\n",
              "      <td>1</td>\n",
              "    </tr>\n",
              "    <tr>\n",
              "      <th>6</th>\n",
              "      <td>6</td>\n",
              "      <td>6</td>\n",
              "      <td>1</td>\n",
              "    </tr>\n",
              "    <tr>\n",
              "      <th>7</th>\n",
              "      <td>3</td>\n",
              "      <td>4</td>\n",
              "      <td>2</td>\n",
              "    </tr>\n",
              "    <tr>\n",
              "      <th>8</th>\n",
              "      <td>2</td>\n",
              "      <td>3</td>\n",
              "      <td>2</td>\n",
              "    </tr>\n",
              "    <tr>\n",
              "      <th>9</th>\n",
              "      <td>3</td>\n",
              "      <td>2</td>\n",
              "      <td>2</td>\n",
              "    </tr>\n",
              "    <tr>\n",
              "      <th>10</th>\n",
              "      <td>4</td>\n",
              "      <td>3</td>\n",
              "      <td>2</td>\n",
              "    </tr>\n",
              "    <tr>\n",
              "      <th>11</th>\n",
              "      <td>3</td>\n",
              "      <td>3</td>\n",
              "      <td>2</td>\n",
              "    </tr>\n",
              "    <tr>\n",
              "      <th>12</th>\n",
              "      <td>4</td>\n",
              "      <td>4</td>\n",
              "      <td>2</td>\n",
              "    </tr>\n",
              "    <tr>\n",
              "      <th>13</th>\n",
              "      <td>1</td>\n",
              "      <td>4</td>\n",
              "      <td>2</td>\n",
              "    </tr>\n",
              "  </tbody>\n",
              "</table>\n",
              "</div>"
            ],
            "text/plain": [
              "    0  1  2\n",
              "0   7  7  1\n",
              "1   7  4  1\n",
              "2   6  4  1\n",
              "3   7  5  1\n",
              "4   7  6  1\n",
              "5   6  7  1\n",
              "6   6  6  1\n",
              "7   3  4  2\n",
              "8   2  3  2\n",
              "9   3  2  2\n",
              "10  4  3  2\n",
              "11  3  3  2\n",
              "12  4  4  2\n",
              "13  1  4  2"
            ]
          },
          "metadata": {
            "tags": []
          },
          "execution_count": 2
        }
      ]
    },
    {
      "cell_type": "code",
      "metadata": {
        "colab": {
          "base_uri": "https://localhost:8080/",
          "height": 314
        },
        "id": "fZmaMSbnAklH",
        "outputId": "36f29ea9-e97a-4dde-ef2f-860060031b70"
      },
      "source": [
        "test = pd.read_csv('/drive/My Drive/Colab Notebooks/PR_lab_Assignments/Assignment4/test_knn.txt',sep=',', header = None)\n",
        "test"
      ],
      "execution_count": null,
      "outputs": [
        {
          "output_type": "execute_result",
          "data": {
            "text/html": [
              "<div>\n",
              "<style scoped>\n",
              "    .dataframe tbody tr th:only-of-type {\n",
              "        vertical-align: middle;\n",
              "    }\n",
              "\n",
              "    .dataframe tbody tr th {\n",
              "        vertical-align: top;\n",
              "    }\n",
              "\n",
              "    .dataframe thead th {\n",
              "        text-align: right;\n",
              "    }\n",
              "</style>\n",
              "<table border=\"1\" class=\"dataframe\">\n",
              "  <thead>\n",
              "    <tr style=\"text-align: right;\">\n",
              "      <th></th>\n",
              "      <th>0</th>\n",
              "      <th>1</th>\n",
              "    </tr>\n",
              "  </thead>\n",
              "  <tbody>\n",
              "    <tr>\n",
              "      <th>0</th>\n",
              "      <td>3</td>\n",
              "      <td>7</td>\n",
              "    </tr>\n",
              "    <tr>\n",
              "      <th>1</th>\n",
              "      <td>7</td>\n",
              "      <td>7</td>\n",
              "    </tr>\n",
              "    <tr>\n",
              "      <th>2</th>\n",
              "      <td>4</td>\n",
              "      <td>3</td>\n",
              "    </tr>\n",
              "    <tr>\n",
              "      <th>3</th>\n",
              "      <td>2</td>\n",
              "      <td>8</td>\n",
              "    </tr>\n",
              "    <tr>\n",
              "      <th>4</th>\n",
              "      <td>3</td>\n",
              "      <td>5</td>\n",
              "    </tr>\n",
              "    <tr>\n",
              "      <th>5</th>\n",
              "      <td>1</td>\n",
              "      <td>2</td>\n",
              "    </tr>\n",
              "    <tr>\n",
              "      <th>6</th>\n",
              "      <td>4</td>\n",
              "      <td>8</td>\n",
              "    </tr>\n",
              "    <tr>\n",
              "      <th>7</th>\n",
              "      <td>8</td>\n",
              "      <td>3</td>\n",
              "    </tr>\n",
              "    <tr>\n",
              "      <th>8</th>\n",
              "      <td>8</td>\n",
              "      <td>4</td>\n",
              "    </tr>\n",
              "  </tbody>\n",
              "</table>\n",
              "</div>"
            ],
            "text/plain": [
              "   0  1\n",
              "0  3  7\n",
              "1  7  7\n",
              "2  4  3\n",
              "3  2  8\n",
              "4  3  5\n",
              "5  1  2\n",
              "6  4  8\n",
              "7  8  3\n",
              "8  8  4"
            ]
          },
          "metadata": {
            "tags": []
          },
          "execution_count": 3
        }
      ]
    },
    {
      "cell_type": "markdown",
      "metadata": {
        "id": "NCbolPmJI8Rz"
      },
      "source": [
        "### Plotting training samples"
      ]
    },
    {
      "cell_type": "code",
      "metadata": {
        "id": "W6nzPoCMA2X6"
      },
      "source": [
        "class1 = []\n",
        "class2 = []\n",
        "test_class1 = []\n",
        "test_class2 = []\n"
      ],
      "execution_count": null,
      "outputs": []
    },
    {
      "cell_type": "code",
      "metadata": {
        "id": "ody5C3Y-A24Y"
      },
      "source": [
        "for i in range(len(train)):\n",
        "  if(train[2][i] == 1):\n",
        "    class1.append([train[0][i],train[1][i]])\n",
        "  else:\n",
        "    class2.append([train[0][i],train[1][i]])\n"
      ],
      "execution_count": null,
      "outputs": []
    },
    {
      "cell_type": "code",
      "metadata": {
        "colab": {
          "base_uri": "https://localhost:8080/"
        },
        "id": "EAAIqF71A476",
        "outputId": "ade5979c-ca01-4062-e156-18dad09486ed"
      },
      "source": [
        "print(class1)\n",
        "class2"
      ],
      "execution_count": null,
      "outputs": [
        {
          "output_type": "stream",
          "text": [
            "[[7, 7], [7, 4], [6, 4], [7, 5], [7, 6], [6, 7], [6, 6]]\n"
          ],
          "name": "stdout"
        },
        {
          "output_type": "execute_result",
          "data": {
            "text/plain": [
              "[[3, 4], [2, 3], [3, 2], [4, 3], [3, 3], [4, 4], [1, 4]]"
            ]
          },
          "metadata": {
            "tags": []
          },
          "execution_count": 20
        }
      ]
    },
    {
      "cell_type": "code",
      "metadata": {
        "colab": {
          "base_uri": "https://localhost:8080/"
        },
        "id": "X7z1oylqA682",
        "outputId": "1abf1bfa-14d2-4049-edc3-d85725e965c0"
      },
      "source": [
        "class1_x = []\n",
        "class1_y = []\n",
        "for i in range(len(class1)):\n",
        "  class1_x.append(class1[i][0])\n",
        "  class1_y.append(class1[i][1])\n",
        "class1_x"
      ],
      "execution_count": null,
      "outputs": [
        {
          "output_type": "execute_result",
          "data": {
            "text/plain": [
              "[7, 7, 6, 7, 7, 6, 6]"
            ]
          },
          "metadata": {
            "tags": []
          },
          "execution_count": 21
        }
      ]
    },
    {
      "cell_type": "code",
      "metadata": {
        "colab": {
          "base_uri": "https://localhost:8080/"
        },
        "id": "pZbhBBFhF95k",
        "outputId": "c28a6a77-e34a-4347-e445-a37fecea3107"
      },
      "source": [
        "class2_x = []\n",
        "class2_y = []\n",
        "for i in range(len(class2)):\n",
        "  class2_x.append(class2[i][0])\n",
        "  class2_y.append(class2[i][1])\n",
        "class2_x"
      ],
      "execution_count": null,
      "outputs": [
        {
          "output_type": "execute_result",
          "data": {
            "text/plain": [
              "[3, 2, 3, 4, 3, 4, 1]"
            ]
          },
          "metadata": {
            "tags": []
          },
          "execution_count": 22
        }
      ]
    },
    {
      "cell_type": "code",
      "metadata": {
        "colab": {
          "base_uri": "https://localhost:8080/",
          "height": 334
        },
        "id": "yr4aJC_ZGBie",
        "outputId": "82049400-2b42-45c3-90bc-0deb79a5b9c2"
      },
      "source": [
        "plt.figure(figsize=(10,5))\n",
        "plt.plot(class1_x,class1_y,'or' , label = 'Train Class 1')\n",
        "plt.plot(class2_x,class2_y,'*k' , label = 'Train Class 2')\n",
        "plt.xlabel('x1')\n",
        "plt.ylabel('x2')\n",
        "plt.legend()\n",
        "plt.show()"
      ],
      "execution_count": null,
      "outputs": [
        {
          "output_type": "display_data",
          "data": {
            "image/png": "[encoded data removed]",
            "text/plain": [
              "<Figure size 720x360 with 1 Axes>"
            ]
          },
          "metadata": {
            "tags": [],
            "needs_background": "light"
          }
        }
      ]
    },
    {
      "cell_type": "markdown",
      "metadata": {
        "id": "pTKs8eXII3eg"
      },
      "source": [
        "###K-NN Algortihm"
      ]
    },
    {
      "cell_type": "code",
      "metadata": {
        "colab": {
          "base_uri": "https://localhost:8080/"
        },
        "id": "M5A8VvoEGk28",
        "outputId": "80efcdb8-d41a-4b84-b257-0c6ec2f6de9d"
      },
      "source": [
        "k = int(input(\"Enter the value of K\"))\n",
        "print(\"k:\",k)"
      ],
      "execution_count": null,
      "outputs": [
        {
          "output_type": "stream",
          "text": [
            "Enter the value of K3\n",
            "k: 3\n"
          ],
          "name": "stdout"
        }
      ]
    },
    {
      "cell_type": "code",
      "metadata": {
        "id": "MxtmhGbAIaTo"
      },
      "source": [
        "def euclidean_distance(train_data, test_data):\n",
        "\tdistance = ( (train_data[0] - test_data[0])**2 ) + ( (train_data[1] - test_data[1])**2 )\n",
        "\treturn distance"
      ],
      "execution_count": null,
      "outputs": []
    },
    {
      "cell_type": "code",
      "metadata": {
        "id": "1NIeenMJV33m"
      },
      "source": [
        "def find_neighbours(dis):\n",
        "  neigh = []\n",
        "  for i in range(k):\n",
        "    neigh.append(dis[i][1])\n",
        "  return neigh\n"
      ],
      "execution_count": null,
      "outputs": []
    },
    {
      "cell_type": "code",
      "metadata": {
        "colab": {
          "base_uri": "https://localhost:8080/"
        },
        "id": "Yv5n-d-1KOFD",
        "outputId": "54257c60-d12f-46a5-c777-e9051690bdb1"
      },
      "source": [
        "for i in range(len(test)):\n",
        "\n",
        "  distances = []\n",
        "  neighbor = []\n",
        "  testData = [test[0][i],test[1][i]]\n",
        "\n",
        "  for j in range(len(train)):\n",
        "    trainData = [train[0][j],train[1][j]]\n",
        "    dist = euclidean_distance(trainData,testData)\n",
        "    distances.append([dist, train[2][j]])\n",
        "\n",
        "  distances.sort(key = lambda x:x[0])\n",
        "  neighbor = find_neighbours(distances)\n",
        "  test_class = max(set(neighbor), key = neighbor.count)\n",
        "  if (test_class == 1):\n",
        "    test_class1.append(testData)\n",
        "  else:\n",
        "    test_class2.append(testData)\n",
        "  with open('/drive/My Drive/Colab Notebooks/PR_lab_Assignments/Assignment4/prediction.txt', 'a') as f:\n",
        "    f.write('\\n\\n\\nTest: '+str(i+1))\n",
        "    f.write('\\nTest Point: '+ str(testData)) \n",
        "    f.write('\\nDistance 1: '+ str(distances[0][0]) + '  Class: '+ str(distances[0][1]))\n",
        "    f.write('\\nDistance 2: '+ str(distances[1][0]) + '  Class: '+ str(distances[1][1]))  \n",
        "    f.write('\\nDistance 3: '+ str(distances[2][0]) + '  Class: '+ str(distances[2][1]))\n",
        "    f.write('\\nPredicted Class: '+ str(test_class)) \n",
        "     \n"
      ],
      "execution_count": null,
      "outputs": [
        {
          "output_type": "stream",
          "text": [
            "0\n",
            "1\n",
            "1\n",
            "1\n",
            "2\n",
            "2\n",
            "3\n",
            "2\n",
            "4\n",
            "2\n",
            "5\n",
            "2\n",
            "6\n",
            "1\n",
            "7\n",
            "1\n",
            "8\n",
            "1\n"
          ],
          "name": "stdout"
        }
      ]
    },
    {
      "cell_type": "code",
      "metadata": {
        "colab": {
          "base_uri": "https://localhost:8080/"
        },
        "id": "qmExNkXOcWFF",
        "outputId": "3f8f6eb2-b602-4860-8f25-41457c289ae3"
      },
      "source": [
        "print(\"test class 1: \",test_class1)\n",
        "print(\"test class 2: \",test_class2)"
      ],
      "execution_count": null,
      "outputs": [
        {
          "output_type": "stream",
          "text": [
            "test class 1:  [[3, 7], [7, 7], [4, 8], [8, 3], [8, 4]]\n",
            "test class 2:  [[4, 3], [2, 8], [3, 5], [1, 2]]\n"
          ],
          "name": "stdout"
        }
      ]
    },
    {
      "cell_type": "code",
      "metadata": {
        "colab": {
          "base_uri": "https://localhost:8080/"
        },
        "id": "TzjQUF0IZfVH",
        "outputId": "6b4f8a2c-ccad-4774-eacd-310350fd8d47"
      },
      "source": [
        "test_class1_x = []\n",
        "test_class1_y = []\n",
        "for i in range(len(test_class1)):\n",
        "  test_class1_x.append(test_class1[i][0])\n",
        "  test_class1_y.append(test_class1[i][1])\n",
        "test_class1_x"
      ],
      "execution_count": null,
      "outputs": [
        {
          "output_type": "execute_result",
          "data": {
            "text/plain": [
              "[3, 7, 4, 8, 8]"
            ]
          },
          "metadata": {
            "tags": []
          },
          "execution_count": 29
        }
      ]
    },
    {
      "cell_type": "code",
      "metadata": {
        "colab": {
          "base_uri": "https://localhost:8080/"
        },
        "id": "Lq6V-AG4bTRc",
        "outputId": "fd5602a5-6be1-4d00-d2b8-a13c2f2d27c9"
      },
      "source": [
        "test_class2_x = []\n",
        "test_class2_y = []\n",
        "for i in range(len(test_class2)):\n",
        "  test_class2_x.append(test_class2[i][0])\n",
        "  test_class2_y.append(test_class2[i][1])\n",
        "test_class2_x"
      ],
      "execution_count": null,
      "outputs": [
        {
          "output_type": "execute_result",
          "data": {
            "text/plain": [
              "[4, 2, 3, 1]"
            ]
          },
          "metadata": {
            "tags": []
          },
          "execution_count": 30
        }
      ]
    },
    {
      "cell_type": "code",
      "metadata": {
        "colab": {
          "base_uri": "https://localhost:8080/",
          "height": 334
        },
        "id": "GXo62kg9behX",
        "outputId": "374516c0-6e0e-48f7-abe8-6cca29f77310"
      },
      "source": [
        "plt.figure(figsize=(10,5))\n",
        "plt.plot(class1_x,class1_y,'or' , label = 'Train Class 1')\n",
        "plt.plot(class2_x,class2_y,'*k' , label = 'Train Class 2')\n",
        "\n",
        "plt.plot(test_class1_x,test_class1_y,'Pb' , label = 'Test Class 1')\n",
        "plt.plot(test_class2_x,test_class2_y,'Xg' , label = 'Test Class 2')\n",
        "\n",
        "plt.xlabel('x1')\n",
        "plt.ylabel('x2')\n",
        "\n",
        "plt.legend()\n",
        "plt.show()"
      ],
      "execution_count": null,
      "outputs": [
        {
          "output_type": "display_data",
          "data": {
            "image/png": "[encoded data removed]",
            "text/plain": [
              "<Figure size 720x360 with 1 Axes>"
            ]
          },
          "metadata": {
            "tags": [],
            "needs_background": "light"
          }
        }
      ]
    },
    {
      "cell_type": "code",
      "metadata": {
        "id": "fvcEI-GXsHyC"
      },
      "source": [
        ""
      ],
      "execution_count": null,
      "outputs": []
    }
  ]
}