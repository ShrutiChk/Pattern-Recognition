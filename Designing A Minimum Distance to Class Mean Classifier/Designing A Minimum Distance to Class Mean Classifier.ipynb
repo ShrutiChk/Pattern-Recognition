{
  "nbformat": 4,
  "nbformat_minor": 0,
  "metadata": {
    "colab": {
      "name": "Assignment1.ipynb",
      "provenance": [],
      "collapsed_sections": []
    },
    "kernelspec": {
      "name": "python3",
      "display_name": "Python 3"
    }
  },
  "cells": [
    {
      "cell_type": "code",
      "metadata": {
        "colab": {
          "base_uri": "https://localhost:8080/"
        },
        "id": "lkuszG1lH3jS",
        "outputId": "9fd5b385-8352-426e-fa21-5d25549e1689"
      },
      "source": [
        "import pandas as pd \r\n",
        "import numpy as np\r\n",
        "import matplotlib.pyplot as plt\r\n",
        "%matplotlib inline\r\n",
        "\r\n",
        "from google.colab import drive\r\n",
        "drive.mount('/drive')"
      ],
      "execution_count": null,
      "outputs": [
        {
          "output_type": "stream",
          "text": [
            "Mounted at /drive\n"
          ],
          "name": "stdout"
        }
      ]
    },
    {
      "cell_type": "code",
      "metadata": {
        "id": "aAS11C2cIWFL"
      },
      "source": [
        "train = pd.read_csv('/drive/My Drive/Colab Notebooks/PR_lab_Assignments/Assignment1/train.txt',sep=' ', header = None)\r\n",
        "test = pd.read_csv('/drive/My Drive/Colab Notebooks/PR_lab_Assignments/Assignment1/test.txt',sep=' ', header = None)\r\n"
      ],
      "execution_count": null,
      "outputs": []
    },
    {
      "cell_type": "code",
      "metadata": {
        "id": "WWLKtSfRORvd"
      },
      "source": [
        "class1 = []\r\n",
        "class2 = []\r\n",
        "test_class1 = []\r\n",
        "test_class2 = []\r\n"
      ],
      "execution_count": null,
      "outputs": []
    },
    {
      "cell_type": "markdown",
      "metadata": {
        "id": "YiAq2KhA-b07"
      },
      "source": [
        "For plotting training samples"
      ]
    },
    {
      "cell_type": "code",
      "metadata": {
        "id": "ZVmGC1zh-Slx"
      },
      "source": [
        "for i in range(len(train)):\r\n",
        "  if(train[2][i] == 1):\r\n",
        "    class1.append([train[0][i],train[1][i]])\r\n",
        "  else:\r\n",
        "    class2.append([train[0][i],train[1][i]])\r\n"
      ],
      "execution_count": null,
      "outputs": []
    },
    {
      "cell_type": "code",
      "metadata": {
        "id": "PZIZDx2X-p-v",
        "colab": {
          "base_uri": "https://localhost:8080/"
        },
        "outputId": "7536ad2c-84e1-4dfc-d1c3-94c8199c3a30"
      },
      "source": [
        "print(class1)\r\n",
        "class2"
      ],
      "execution_count": null,
      "outputs": [
        {
          "output_type": "stream",
          "text": [
            "[[2, 2], [3, 1], [3, 3], [-1, -3], [4, 2], [-2, -2]]\n"
          ],
          "name": "stdout"
        },
        {
          "output_type": "execute_result",
          "data": {
            "text/plain": [
              "[[-4, 3], [2, 6], [0, 0], [-2, 2], [-1, -1], [-4, 2]]"
            ]
          },
          "metadata": {
            "tags": []
          },
          "execution_count": 5
        }
      ]
    },
    {
      "cell_type": "markdown",
      "metadata": {
        "id": "zb7GO9GQ-2i8"
      },
      "source": [
        "Mean calculation"
      ]
    },
    {
      "cell_type": "code",
      "metadata": {
        "colab": {
          "base_uri": "https://localhost:8080/"
        },
        "id": "AqaUWt9h_a0d",
        "outputId": "c1906f82-6a43-47c7-dd37-139eb6c289e1"
      },
      "source": [
        "x = 0\r\n",
        "y = 0\r\n",
        "for i in range(len(class1)):\r\n",
        "  x +=class1[i][0]\r\n",
        "  y +=class1[i][1]\r\n",
        "mean1 = [x/len(class1),y/len(class1)]\r\n",
        "print(mean1) "
      ],
      "execution_count": null,
      "outputs": [
        {
          "output_type": "stream",
          "text": [
            "[1.5, 0.5]\n"
          ],
          "name": "stdout"
        }
      ]
    },
    {
      "cell_type": "code",
      "metadata": {
        "colab": {
          "base_uri": "https://localhost:8080/"
        },
        "id": "3WhyWFPzBDSL",
        "outputId": "22bff771-ccab-414e-d57d-8bfcb721bef3"
      },
      "source": [
        "x = 0\r\n",
        "y = 0\r\n",
        "for i in range(len(class1)):\r\n",
        "  x +=class2[i][0]\r\n",
        "  y +=class2[i][1]\r\n",
        "mean2 = [x/len(class1),y/len(class1)]\r\n",
        "print(mean2) "
      ],
      "execution_count": null,
      "outputs": [
        {
          "output_type": "stream",
          "text": [
            "[-1.5, 2.0]\n"
          ],
          "name": "stdout"
        }
      ]
    },
    {
      "cell_type": "code",
      "metadata": {
        "colab": {
          "base_uri": "https://localhost:8080/"
        },
        "id": "_CI8vl_4BJNB",
        "outputId": "65a12839-1f7f-47f4-f75a-d7e523f8b19e"
      },
      "source": [
        "mean = [mean1,mean2]\r\n",
        "mean"
      ],
      "execution_count": null,
      "outputs": [
        {
          "output_type": "execute_result",
          "data": {
            "text/plain": [
              "[[1.5, 0.5], [-1.5, 2.0]]"
            ]
          },
          "metadata": {
            "tags": []
          },
          "execution_count": 8
        }
      ]
    },
    {
      "cell_type": "code",
      "metadata": {
        "id": "OiXkfe_yoA4F"
      },
      "source": [
        "mean1_x = mean1[0]\r\n",
        "mean1_y = mean1[1]\r\n",
        "mean2_x = mean2[0]\r\n",
        "mean2_y = mean2[1]"
      ],
      "execution_count": null,
      "outputs": []
    },
    {
      "cell_type": "markdown",
      "metadata": {
        "id": "FNwyBNU2-8Ko"
      },
      "source": [
        "For plotting Test samples"
      ]
    },
    {
      "cell_type": "code",
      "metadata": {
        "colab": {
          "base_uri": "https://localhost:8080/"
        },
        "id": "Z9Fv1hDvogDV",
        "outputId": "72f33fd7-d749-4e8d-fd79-342f75134927"
      },
      "source": [
        "for i in range(len(test)):\r\n",
        "  g1 = (np.dot(np.transpose(mean1),np.array([test[0][i],test[1][i]]))) - (0.5 * (np.dot(np.transpose(mean1),mean1)))\r\n",
        "  g2 = (np.dot(np.transpose(mean2),np.array([test[0][i],test[1][i]]))) - (0.5 * (np.dot(np.transpose(mean2),mean2)))\r\n",
        "  print(g1,g2)\r\n",
        "  if (g1 > g2):\r\n",
        "   test_class1.append([test[0][i],test[1][i]])\r\n",
        "  else:\r\n",
        "   test_class2.append([test[0][i],test[1][i]])\r\n"
      ],
      "execution_count": null,
      "outputs": [
        {
          "output_type": "stream",
          "text": [
            "-5.25 -11.625\n",
            "4.25 -3.625\n",
            "-3.75 1.875\n",
            "11.75 -11.125\n",
            "7.25 -14.125\n",
            "-0.25 0.875\n",
            "-5.75 1.375\n"
          ],
          "name": "stdout"
        }
      ]
    },
    {
      "cell_type": "code",
      "metadata": {
        "id": "vsyEygyWqYJY",
        "colab": {
          "base_uri": "https://localhost:8080/"
        },
        "outputId": "d80cae31-a7ad-4aba-da20-0647ff7630d7"
      },
      "source": [
        "print(test_class1)\r\n",
        "print(test_class2)"
      ],
      "execution_count": null,
      "outputs": [
        {
          "output_type": "stream",
          "text": [
            "[[-1, -5], [3, 2], [8, 2], [6, -1]]\n",
            "[[-2, 1], [0, 2], [-3, 0]]\n"
          ],
          "name": "stdout"
        }
      ]
    },
    {
      "cell_type": "code",
      "metadata": {
        "colab": {
          "base_uri": "https://localhost:8080/"
        },
        "id": "KJdIk6jsnPg8",
        "outputId": "4e711037-cb5d-4157-fe9a-7d3377f0c7b6"
      },
      "source": [
        "class1_x = []\r\n",
        "class1_y = []\r\n",
        "for i in range(len(class1)):\r\n",
        "  class1_x.append(class1[i][0])\r\n",
        "  class1_y.append(class1[i][1])\r\n",
        "class1_x"
      ],
      "execution_count": null,
      "outputs": [
        {
          "output_type": "execute_result",
          "data": {
            "text/plain": [
              "[2, 3, 3, -1, 4, -2]"
            ]
          },
          "metadata": {
            "tags": []
          },
          "execution_count": 12
        }
      ]
    },
    {
      "cell_type": "code",
      "metadata": {
        "colab": {
          "base_uri": "https://localhost:8080/"
        },
        "id": "MXwt9fmln0qK",
        "outputId": "65e456ab-f9f2-42ca-a814-8a00d3a59876"
      },
      "source": [
        "class2_x = []\r\n",
        "class2_y = []\r\n",
        "for i in range(len(class2)):\r\n",
        "  class2_x.append(class2[i][0])\r\n",
        "  class2_y.append(class2[i][1])\r\n",
        "class2_x"
      ],
      "execution_count": null,
      "outputs": [
        {
          "output_type": "execute_result",
          "data": {
            "text/plain": [
              "[-4, 2, 0, -2, -1, -4]"
            ]
          },
          "metadata": {
            "tags": []
          },
          "execution_count": 13
        }
      ]
    },
    {
      "cell_type": "code",
      "metadata": {
        "colab": {
          "base_uri": "https://localhost:8080/"
        },
        "id": "PDUecz14uEbz",
        "outputId": "637efc36-9551-4edc-b0db-8997d72903af"
      },
      "source": [
        "test_class1_x = []\r\n",
        "test_class1_y = []\r\n",
        "for i in range(len(test_class1)):\r\n",
        "  test_class1_x.append(test_class1[i][0])\r\n",
        "  test_class1_y.append(test_class1[i][1])\r\n",
        "test_class1_x"
      ],
      "execution_count": null,
      "outputs": [
        {
          "output_type": "execute_result",
          "data": {
            "text/plain": [
              "[-1, 3, 8, 6]"
            ]
          },
          "metadata": {
            "tags": []
          },
          "execution_count": 14
        }
      ]
    },
    {
      "cell_type": "code",
      "metadata": {
        "colab": {
          "base_uri": "https://localhost:8080/"
        },
        "id": "KeC5xaS0uPVk",
        "outputId": "84a5b7c5-69e5-41c6-bdf4-cae02497521d"
      },
      "source": [
        "test_class2_x = []\r\n",
        "test_class2_y = []\r\n",
        "for i in range(len(test_class2)):\r\n",
        "  test_class2_x.append(test_class2[i][0])\r\n",
        "  test_class2_y.append(test_class2[i][1])\r\n",
        "test_class2_x"
      ],
      "execution_count": null,
      "outputs": [
        {
          "output_type": "execute_result",
          "data": {
            "text/plain": [
              "[-2, 0, -3]"
            ]
          },
          "metadata": {
            "tags": []
          },
          "execution_count": 15
        }
      ]
    },
    {
      "cell_type": "markdown",
      "metadata": {
        "id": "rxA2MzFr_Cxz"
      },
      "source": [
        "For decision Boundary"
      ]
    },
    {
      "cell_type": "code",
      "metadata": {
        "colab": {
          "base_uri": "https://localhost:8080/"
        },
        "id": "AHghl4GWyoJ7",
        "outputId": "e44f9301-2b30-4f1f-896b-b541845e4d25"
      },
      "source": [
        "train_x1min = min(train[0])\r\n",
        "train_x2min = min(train[1])\r\n",
        "train_x1max = max(train[0])\r\n",
        "train_x2max = max(train[1])\r\n",
        "test_x1min = min(test[0])\r\n",
        "test_x2min = min(test[1])\r\n",
        "test_x1max = max(test[0])\r\n",
        "test_x2max = max(test[1])\r\n",
        "min_x = [train_x1min,train_x2min,test_x1min,test_x2min]\r\n",
        "max_x = [train_x1max,train_x2max,test_x1max,test_x2max]\r\n",
        "xmin = min(min_x)\r\n",
        "xmax = max(max_x)\r\n",
        "print(\"xmin:\" , xmin)\r\n",
        "print(\"xmax:\" , xmax)     \r\n",
        "constant = -0.5 * ((np.dot(np.transpose(mean1),mean1)) - (np.dot(np.transpose(mean2),mean2)))\r\n",
        "print(\"constant: \", constant)\r\n",
        "\r\n",
        "coeff = np.subtract(np.transpose(mean1),np.transpose(mean2))\r\n",
        "print(\"coefficient:\" ,coeff)\r\n",
        "\r\n"
      ],
      "execution_count": null,
      "outputs": [
        {
          "output_type": "stream",
          "text": [
            "xmin: -5\n",
            "xmax: 8\n",
            "constant:  1.875\n",
            "coefficient: [ 3.  -1.5]\n"
          ],
          "name": "stdout"
        }
      ]
    },
    {
      "cell_type": "code",
      "metadata": {
        "colab": {
          "base_uri": "https://localhost:8080/"
        },
        "id": "t41g4sP62xzA",
        "outputId": "3db3bf83-5fd6-4a84-c1f7-743b85af91f9"
      },
      "source": [
        "x = []\r\n",
        "y = []\r\n",
        "for i in range (xmin,xmax):\r\n",
        "  x.append(i)\r\n",
        "  y.append(-(np.dot(coeff[0],i) + constant)/coeff[1])\r\n",
        "\r\n",
        "print(\"x: \", x)\r\n",
        "print(\"y: \", y)"
      ],
      "execution_count": null,
      "outputs": [
        {
          "output_type": "stream",
          "text": [
            "x:  [-5, -4, -3, -2, -1, 0, 1, 2, 3, 4, 5, 6, 7]\n",
            "y:  [-8.75, -6.75, -4.75, -2.75, -0.75, 1.25, 3.25, 5.25, 7.25, 9.25, 11.25, 13.25, 15.25]\n"
          ],
          "name": "stdout"
        }
      ]
    },
    {
      "cell_type": "markdown",
      "metadata": {
        "id": "cE980fW5_H1X"
      },
      "source": [
        "Plotting all points"
      ]
    },
    {
      "cell_type": "code",
      "metadata": {
        "colab": {
          "base_uri": "https://localhost:8080/",
          "height": 320
        },
        "id": "fF59cLEfOeNC",
        "outputId": "65dd449d-3d50-490a-f2c5-60911a75d3bf"
      },
      "source": [
        "plt.figure(figsize=(10,5))\r\n",
        "plt.plot(class1_x,class1_y,'or' , label = 'Train Class 1')\r\n",
        "plt.plot(class2_x,class2_y,'*k' , label = 'Train Class 2')\r\n",
        "\r\n",
        "plt.plot(test_class1_x,test_class1_y,'Pr' , label = 'Test Class 1')\r\n",
        "plt.plot(test_class2_x,test_class2_y,'Xk' , label = 'Test Class 2')\r\n",
        "\r\n",
        "plt.plot(mean1_x,mean1_y,'1r' , label = 'Mean Class 1')\r\n",
        "plt.plot(mean2_x,mean2_y,'sk' , label = 'Mean Class 2')\r\n",
        "\r\n",
        "plt.plot(x,y,'--r' , label = 'Decision Boundary')\r\n",
        "\r\n",
        "plt.legend()\r\n",
        "plt.show()"
      ],
      "execution_count": null,
      "outputs": [
        {
          "output_type": "display_data",
          "data": {
            "image/png": "[encoded data removed]",
            "text/plain": [
              "<Figure size 720x360 with 1 Axes>"
            ]
          },
          "metadata": {
            "tags": [],
            "needs_background": "light"
          }
        }
      ]
    },
    {
      "cell_type": "markdown",
      "metadata": {
        "id": "8hWDLZQu_LRp"
      },
      "source": [
        "Accuracy "
      ]
    },
    {
      "cell_type": "code",
      "metadata": {
        "colab": {
          "base_uri": "https://localhost:8080/"
        },
        "id": "sSOfPDmaxB_Q",
        "outputId": "d49a7d64-af2f-4365-b7c9-e1728d53df35"
      },
      "source": [
        "cnt = 0\r\n",
        "for i in range(len(test)):\r\n",
        "  if (test[2][i] == 1):\r\n",
        "     for j in range(len(test_class1)):\r\n",
        "       if ((test[0][i] == test_class1[j][0]) and (test[1][i] == test_class1[j][1])):\r\n",
        "        cnt = cnt + 1\r\n",
        "        break\r\n",
        "  elif (test[2][i] == 2): \r\n",
        "    for j in range(len(test_class2)):\r\n",
        "       if ((test[0][i] == test_class2[j][0]) and (test[1][i] == test_class2[j][1])):\r\n",
        "         cnt = cnt + 1  \r\n",
        "         break\r\n",
        "\r\n",
        "#print(cnt)\r\n",
        "print(\"Accuracy:\",cnt*100/len(test))\r\n",
        "\r\n"
      ],
      "execution_count": null,
      "outputs": [
        {
          "output_type": "stream",
          "text": [
            "Accuracy: 85.71428571428571\n"
          ],
          "name": "stdout"
        }
      ]
    },
    {
      "cell_type": "code",
      "metadata": {
        "id": "fPMH_FQuO9yw"
      },
      "source": [
        ""
      ],
      "execution_count": null,
      "outputs": []
    }
  ]
}