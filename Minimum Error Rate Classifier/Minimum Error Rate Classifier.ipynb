{
  "nbformat": 4,
  "nbformat_minor": 0,
  "metadata": {
    "colab": {
      "name": "PR_Assignment3.ipynb",
      "provenance": []
    },
    "kernelspec": {
      "name": "python3",
      "display_name": "Python 3"
    }
  },
  "cells": [
    {
      "cell_type": "code",
      "metadata": {
        "colab": {
          "base_uri": "https://localhost:8080/"
        },
        "id": "SbT-be-LGgWl",
        "outputId": "9dbfd3ba-743f-47b6-84c2-62fdb82e1082"
      },
      "source": [
        "import pandas as pd \r\n",
        "import numpy as np\r\n",
        "import matplotlib.pyplot as plt\r\n",
        "%matplotlib inline\r\n",
        "import random \r\n",
        "import pandas as pd\r\n",
        "from google.colab import drive\r\n",
        "drive.mount('/drive')"
      ],
      "execution_count": null,
      "outputs": [
        {
          "output_type": "stream",
          "text": [
            "Mounted at /drive\n"
          ],
          "name": "stdout"
        }
      ]
    },
    {
      "cell_type": "code",
      "metadata": {
        "colab": {
          "base_uri": "https://localhost:8080/",
          "height": 225
        },
        "id": "9qfT5b_CGmg3",
        "outputId": "faad42a4-7e0c-4077-8492-314c73936622"
      },
      "source": [
        "test = pd.read_csv('/drive/My Drive/Colab Notebooks/PR_lab_Assignments/Assignment3/test-Minimum-Error-Rate-Classifier.txt',sep=',', header = None)\r\n",
        "test"
      ],
      "execution_count": null,
      "outputs": [
        {
          "output_type": "execute_result",
          "data": {
            "text/html": [
              "<div>\n",
              "<style scoped>\n",
              "    .dataframe tbody tr th:only-of-type {\n",
              "        vertical-align: middle;\n",
              "    }\n",
              "\n",
              "    .dataframe tbody tr th {\n",
              "        vertical-align: top;\n",
              "    }\n",
              "\n",
              "    .dataframe thead th {\n",
              "        text-align: right;\n",
              "    }\n",
              "</style>\n",
              "<table border=\"1\" class=\"dataframe\">\n",
              "  <thead>\n",
              "    <tr style=\"text-align: right;\">\n",
              "      <th></th>\n",
              "      <th>0</th>\n",
              "      <th>1</th>\n",
              "    </tr>\n",
              "  </thead>\n",
              "  <tbody>\n",
              "    <tr>\n",
              "      <th>0</th>\n",
              "      <td>1</td>\n",
              "      <td>1.0</td>\n",
              "    </tr>\n",
              "    <tr>\n",
              "      <th>1</th>\n",
              "      <td>1</td>\n",
              "      <td>-1.0</td>\n",
              "    </tr>\n",
              "    <tr>\n",
              "      <th>2</th>\n",
              "      <td>4</td>\n",
              "      <td>5.0</td>\n",
              "    </tr>\n",
              "    <tr>\n",
              "      <th>3</th>\n",
              "      <td>-2</td>\n",
              "      <td>2.5</td>\n",
              "    </tr>\n",
              "    <tr>\n",
              "      <th>4</th>\n",
              "      <td>0</td>\n",
              "      <td>2.0</td>\n",
              "    </tr>\n",
              "    <tr>\n",
              "      <th>5</th>\n",
              "      <td>2</td>\n",
              "      <td>-3.0</td>\n",
              "    </tr>\n",
              "  </tbody>\n",
              "</table>\n",
              "</div>"
            ],
            "text/plain": [
              "   0    1\n",
              "0  1  1.0\n",
              "1  1 -1.0\n",
              "2  4  5.0\n",
              "3 -2  2.5\n",
              "4  0  2.0\n",
              "5  2 -3.0"
            ]
          },
          "metadata": {
            "tags": []
          },
          "execution_count": 2
        }
      ]
    },
    {
      "cell_type": "code",
      "metadata": {
        "colab": {
          "base_uri": "https://localhost:8080/"
        },
        "id": "COSrgtoGPHkw",
        "outputId": "697b6d00-8e84-455c-9fba-e8d8bfe60b2a"
      },
      "source": [
        "test_list = []\r\n",
        "for i in range(len(test)):\r\n",
        "  test_list.append([test[0][i],test[1][i]])\r\n",
        "\r\n",
        "test_list"
      ],
      "execution_count": null,
      "outputs": [
        {
          "output_type": "execute_result",
          "data": {
            "text/plain": [
              "[[1, 1.0], [1, -1.0], [4, 5.0], [-2, 2.5], [0, 2.0], [2, -3.0]]"
            ]
          },
          "metadata": {
            "tags": []
          },
          "execution_count": 3
        }
      ]
    },
    {
      "cell_type": "code",
      "metadata": {
        "id": "XoigEcSyGxJS"
      },
      "source": [
        "class1 = []\r\n",
        "class2 = []\r\n",
        "meu1 = [0,0]\r\n",
        "meu2 = [2,2]\r\n",
        "sigma1 = [[0.25, 0.3],[0.3,1]]\r\n",
        "sigma2 = [[0.5,0],[0,0.5]]\r\n",
        "prior1 = 0.5\r\n",
        "prior2 = 0.5\r\n",
        "D = 2\r\n",
        "pi = 3.1416"
      ],
      "execution_count": null,
      "outputs": []
    },
    {
      "cell_type": "code",
      "metadata": {
        "colab": {
          "base_uri": "https://localhost:8080/"
        },
        "id": "ehlMQK2yG1Cm",
        "outputId": "1d14413d-3ea8-41ef-bf6a-ea1b2d2a18e5"
      },
      "source": [
        "for i in range(len(test_list)):\r\n",
        "\r\n",
        "  divide_term1 =  1 / (((2 * pi) ** (D/2)) * ( (np.linalg.det(sigma1)**(1/2)) ))  \r\n",
        "  exp_term1 = -0.5 * np.matmul(np.transpose(np.subtract(test_list[i] , meu1) ), np.matmul(np.linalg.inv(sigma1), (np.subtract(test_list[i] , meu1)) ))\r\n",
        "  normal_dist1 = divide_term1 * (np.exp(exp_term1))\r\n",
        "\r\n",
        "\r\n",
        "  divide_term2 =   1 / (((2 * pi) ** (D/2)) * ( (np.linalg.det(sigma2)**(1/2)) ))   \r\n",
        "  exp_term2 = -0.5 * np.matmul(np.transpose(np.subtract(test_list[i] , meu2)), np.matmul(np.linalg.inv(sigma2), (np.subtract(test_list[i] , meu2) ) ))\r\n",
        "  normal_dist2 = divide_term2 * (np.exp(exp_term2))\r\n",
        "\r\n",
        "  posterior1 = normal_dist1 * prior1\r\n",
        "  posterior2 = normal_dist2 * prior2\r\n",
        "\r\n",
        "  print(\"i: \", i )\r\n",
        "  print(\"P1: \", posterior1)\r\n",
        "  print(\"P2: \", posterior2)\r\n",
        "  print(\"\\n\")\r\n",
        "\r\n",
        "  if (posterior1 > posterior2) :\r\n",
        "    class1.append([test[0][i],test[1][i]])\r\n",
        "  else :\r\n",
        "     class2.append([test[0][i],test[1][i]])"
      ],
      "execution_count": null,
      "outputs": [
        {
          "output_type": "stream",
          "text": [
            "i:  0\n",
            "P1:  0.026095670659495616\n",
            "P2:  0.02153922893376189\n",
            "\n",
            "\n",
            "i:  1\n",
            "P1:  0.0006137113505121325\n",
            "P2:  7.225606341113582e-06\n",
            "\n",
            "\n",
            "i:  2\n",
            "P1:  2.4419344715058477e-15\n",
            "P2:  3.597417569042931e-07\n",
            "\n",
            "\n",
            "i:  3\n",
            "P1:  4.763858053504574e-13\n",
            "P2:  1.3948701647955878e-08\n",
            "\n",
            "\n",
            "i:  4\n",
            "P1:  0.008740954772927695\n",
            "P2:  0.002915017648448908\n",
            "\n",
            "\n",
            "i:  5\n",
            "P1:  8.5231887852038e-15\n",
            "P2:  2.2103297467793515e-12\n",
            "\n",
            "\n"
          ],
          "name": "stdout"
        }
      ]
    },
    {
      "cell_type": "code",
      "metadata": {
        "colab": {
          "base_uri": "https://localhost:8080/"
        },
        "id": "ZqsFTV_OMCY2",
        "outputId": "559b6fb8-3efa-4947-8f73-3c43e44fa569"
      },
      "source": [
        "print(class1)\r\n",
        "print(class2)\r\n"
      ],
      "execution_count": null,
      "outputs": [
        {
          "output_type": "stream",
          "text": [
            "[[1, 1.0], [1, -1.0], [0, 2.0]]\n",
            "[[4, 5.0], [-2, 2.5], [2, -3.0]]\n"
          ],
          "name": "stdout"
        }
      ]
    },
    {
      "cell_type": "code",
      "metadata": {
        "colab": {
          "base_uri": "https://localhost:8080/"
        },
        "id": "r2mO7kPaMD5Z",
        "outputId": "fbce8204-f400-4f56-e298-61c64fcce45f"
      },
      "source": [
        "class1_x = []\r\n",
        "class1_y = []\r\n",
        "for i in range(len(class1)):\r\n",
        "  class1_x.append(class1[i][0])\r\n",
        "  class1_y.append(class1[i][1])\r\n",
        "class1_x"
      ],
      "execution_count": null,
      "outputs": [
        {
          "output_type": "execute_result",
          "data": {
            "text/plain": [
              "[1, 1, 0]"
            ]
          },
          "metadata": {
            "tags": []
          },
          "execution_count": 7
        }
      ]
    },
    {
      "cell_type": "code",
      "metadata": {
        "colab": {
          "base_uri": "https://localhost:8080/"
        },
        "id": "KONH9QHZMGDL",
        "outputId": "694c404f-9517-4692-ce18-b17c2d5dd271"
      },
      "source": [
        "class2_x = []\r\n",
        "class2_y = []\r\n",
        "for i in range(len(class2)):\r\n",
        "  class2_x.append(class2[i][0])\r\n",
        "  class2_y.append(class2[i][1])\r\n",
        "class2_x"
      ],
      "execution_count": null,
      "outputs": [
        {
          "output_type": "execute_result",
          "data": {
            "text/plain": [
              "[4, -2, 2]"
            ]
          },
          "metadata": {
            "tags": []
          },
          "execution_count": 8
        }
      ]
    },
    {
      "cell_type": "code",
      "metadata": {
        "colab": {
          "base_uri": "https://localhost:8080/",
          "height": 334
        },
        "id": "el16XRxxMM0q",
        "outputId": "84c583ab-df08-45de-d6e0-237fe213f0ee"
      },
      "source": [
        "plt.figure(figsize=(10,5))\r\n",
        "plt.plot(class1_x,class1_y,'or' , label = 'Train Class 1')\r\n",
        "plt.plot(class2_x,class2_y,'*k' , label = 'Train Class 2')\r\n",
        "plt.xlabel('x1')\r\n",
        "plt.ylabel('x2')\r\n",
        "plt.legend()\r\n",
        "plt.show()"
      ],
      "execution_count": null,
      "outputs": [
        {
          "output_type": "display_data",
          "data": {
            "image/png": "[encoded data removed]",
            "text/plain": [
              "<Figure size 720x360 with 1 Axes>"
            ]
          },
          "metadata": {
            "tags": [],
            "needs_background": "light"
          }
        }
      ]
    },
    {
      "cell_type": "code",
      "metadata": {
        "colab": {
          "base_uri": "https://localhost:8080/"
        },
        "id": "uKctVlovIDMh",
        "outputId": "3acc90dc-1701-48da-b993-5ef24c2480d4"
      },
      "source": [
        "np.array(test[0])"
      ],
      "execution_count": null,
      "outputs": [
        {
          "output_type": "execute_result",
          "data": {
            "text/plain": [
              "array([ 1,  1,  4, -2,  0,  2])"
            ]
          },
          "metadata": {
            "tags": []
          },
          "execution_count": 12
        }
      ]
    },
    {
      "cell_type": "code",
      "metadata": {
        "id": "u2x4cGfLa3Mf",
        "colab": {
          "base_uri": "https://localhost:8080/",
          "height": 303
        },
        "outputId": "754dd657-6c7f-40e6-83dc-53d9bcb33de4"
      },
      "source": [
        "from matplotlib import cm\r\n",
        "from mpl_toolkits.mplot3d import Axes3D\r\n",
        "\r\n",
        "X = np.linspace(-7, 7, 32)\r\n",
        "Y = np.linspace(-7, 7, 32)\r\n",
        "X, Y = np.meshgrid(X, Y)\r\n",
        "\r\n",
        "XY = np.empty(X.shape + (2,))\r\n",
        "XY[:, :, 0] = X\r\n",
        "XY[:, :, 1] = Y\r\n",
        "\r\n",
        "\r\n",
        "def multivariate_gaussian(value, meu, sigma):\r\n",
        "   \r\n",
        "    divide_term = 1/ (np.sqrt((2*np.pi)**2 * (np.linalg.det(sigma))))\r\n",
        "    exp_term = 0.5 * np.einsum('...k,kl,...l->...', value-meu, np.linalg.inv(sigma), value-meu)\r\n",
        "    normal_dist = divide_term * np.exp(-exp_term)\r\n",
        "    return normal_dist\r\n",
        "\r\n",
        "'''\r\n",
        "    divide_term =  1 / (((2 * pi) ** (D/2)) * ( (np.linalg.det(sigma)**(1/2)) ))  \r\n",
        "    exp_term = -0.5 * np.matmul((pos - meu) , np.linalg.inv(sigma), (pos - meu))\r\n",
        "    normal_dist = divide_term * (np.exp(exp_term))\r\n",
        "    return normal_dist\r\n",
        "'''\r\n",
        "Z1 = multivariate_gaussian(XY, meu1, sigma1)\r\n",
        "Z2 = multivariate_gaussian(XY, meu2, sigma2)\r\n",
        "\r\n",
        "\r\n",
        "fig = plt.figure(figsize=(10,5))\r\n",
        "ax = fig.gca(projection='3d')\r\n",
        "\r\n",
        "db = Z1-Z2\r\n",
        "\r\n",
        "plt.plot(class1_x,class1_y,'or' , label = 'Train Class 1')\r\n",
        "plt.plot(class2_x,class2_y,'*k' , label = 'Train Class 2')\r\n",
        "\r\n",
        "\r\n",
        "ax.plot_surface(X, Y, Z1, rstride=3, cstride=3, linewidth=1, antialiased=True,\r\n",
        "                cmap=cm.plasma, alpha= .7)\r\n",
        "ax.plot_surface(X, Y, Z2, rstride=3, cstride=3, linewidth=1, antialiased=True,\r\n",
        "                cmap=cm.bwr, alpha= .4)\r\n",
        "ax.contourf(X, Y, db, zdir='z', offset=-0.15, cmap=cm.PuBuGn)\r\n",
        "\r\n",
        "plt.xlabel('x1')\r\n",
        "plt.ylabel('x2')\r\n",
        "\r\n",
        "ax.legend()\r\n",
        "\r\n",
        "ax.set_zlim(-0.15,0.2)\r\n",
        "ax.set_zticks(np.linspace(0,0.3,5))\r\n",
        "ax.view_init(27, -21)\r\n",
        "ax.set_zlabel('PDF')\r\n",
        "\r\n",
        "plt.show()\r\n"
      ],
      "execution_count": null,
      "outputs": [
        {
          "output_type": "display_data",
          "data": {
            "image/png": "[encoded data removed]",
            "text/plain": [
              "<Figure size 720x360 with 1 Axes>"
            ]
          },
          "metadata": {
            "tags": [],
            "needs_background": "light"
          }
        }
      ]
    },
    {
      "cell_type": "code",
      "metadata": {
        "id": "pUcu_oVRHDR_"
      },
      "source": [
        ""
      ],
      "execution_count": null,
      "outputs": []
    }
  ]
}